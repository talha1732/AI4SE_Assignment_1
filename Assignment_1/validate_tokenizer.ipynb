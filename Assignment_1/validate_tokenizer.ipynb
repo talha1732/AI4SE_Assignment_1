{
 "cells": [
  {
   "cell_type": "code",
   "execution_count": 5,
   "metadata": {},
   "outputs": [],
   "source": [
    "# Save this file as: validate_tokenizer.py\n",
    "\n",
    "import os\n",
    "import logging\n",
    "from transformers import PreTrainedTokenizerFast\n",
    "\n",
    "TOKENIZER_JSON_PATH = os.path.join(\"tokenizer_files\", \"tokenizer.json\")\n",
    "IF_MASK_TOKEN = \"<if_mask>\"\n",
    "\n",
    "def validate():\n",
    "    print(\"--- Running Tokenizer Validation ---\")\n",
    "    if not os.path.exists(TOKENIZER_JSON_PATH):\n",
    "        print(f\"❌ FAILURE: Tokenizer file '{TOKENIZER_JSON_PATH}' not found.\")\n",
    "        return\n",
    "\n",
    "    try:\n",
    "        tokenizer = PreTrainedTokenizerFast(tokenizer_file=TOKENIZER_JSON_PATH)\n",
    "        print(\"✅ SUCCESS: Tokenizer loaded successfully.\")\n",
    "        \n",
    "        test_code = f\"def check_value(x):\\n    if x > 10:\\n        return True\\n    {IF_MASK_TOKEN}\"\n",
    "        print(f\"\\n--- Testing with sample code ---\\n{test_code}\\n\")\n",
    "        \n",
    "        tokens = tokenizer.tokenize(test_code)\n",
    "        print(f\"Tokens: {tokens}\")\n",
    "        \n",
    "        # Check for keywords\n",
    "        def_ok = 'def' in tokens or 'Ġdef' in tokens\n",
    "        if_ok = 'if' in tokens or 'Ġif' in tokens\n",
    "\n",
    "        if def_ok and if_ok:\n",
    "            print(\"✅ SUCCESS: Common keywords ('def', 'if') are recognized correctly.\")\n",
    "        else:\n",
    "            print(\"❌ WARNING: Common keywords are being split unexpectedly.\")\n",
    "\n",
    "        if IF_MASK_TOKEN in tokens:\n",
    "            print(f\"✅ SUCCESS: Special token '{IF_MASK_TOKEN}' is correctly recognized.\")\n",
    "        else:\n",
    "            print(f\"❌ FAILURE: Special token '{IF_MASK_TOKEN}' is NOT recognized.\")\n",
    "        \n",
    "        # --- CORRECTED RECONSTRUCTION CHECK ---\n",
    "        # 1. Encode WITHOUT adding special start/end tokens (bos/eos)\n",
    "        encoded_ids = tokenizer.encode(test_code, add_special_tokens=False)\n",
    "        \n",
    "        # 2. Decode WITHOUT skipping any special tokens (like <if_mask>)\n",
    "        decoded_text = tokenizer.decode(encoded_ids, skip_special_tokens=False)\n",
    "        # --- END CORRECTION ---\n",
    "\n",
    "        print(\"\\n--- Reconstruction Test ---\")\n",
    "        print(f\"Original Text:  {test_code}\")\n",
    "        print(f\"Decoded Text:   {decoded_text}\")\n",
    "\n",
    "        if test_code == decoded_text:\n",
    "            print(\"✅ SUCCESS: Code was reconstructed perfectly.\")\n",
    "        else:\n",
    "            print(\"❌ FAILURE: Code reconstruction has differences.\")\n",
    "            \n",
    "    except Exception as e:\n",
    "        print(f\"❌ FAILURE: An error occurred during validation: {e}\")"
   ]
  },
  {
   "cell_type": "code",
   "execution_count": 6,
   "metadata": {},
   "outputs": [
    {
     "name": "stdout",
     "output_type": "stream",
     "text": [
      "--- Running Tokenizer Validation ---\n",
      "✅ SUCCESS: Tokenizer loaded successfully.\n",
      "\n",
      "--- Testing with sample code ---\n",
      "def check_value(x):\n",
      "    if x > 10:\n",
      "        return True\n",
      "    <if_mask>\n",
      "\n",
      "Tokens: ['def', 'Ġcheck', '_', 'value', '(', 'x', '):', 'Ċ', 'ĠĠĠ', 'Ġif', 'Ġx', 'Ġ>', 'Ġ10', ':', 'Ċ', 'ĠĠĠĠĠĠĠ', 'Ġreturn', 'ĠTrue', 'Ċ', 'ĠĠĠĠ', '<if_mask>']\n",
      "✅ SUCCESS: Common keywords ('def', 'if') are recognized correctly.\n",
      "✅ SUCCESS: Special token '<if_mask>' is correctly recognized.\n",
      "\n",
      "--- Reconstruction Test ---\n",
      "Original Text:  def check_value(x):\n",
      "    if x > 10:\n",
      "        return True\n",
      "    <if_mask>\n",
      "Decoded Text:   def check_value(x):\n",
      "    if x > 10:\n",
      "        return True\n",
      "    <if_mask>\n",
      "✅ SUCCESS: Code was reconstructed perfectly.\n"
     ]
    }
   ],
   "source": [
    "if __name__ == \"__main__\":\n",
    "    validate()"
   ]
  },
  {
   "cell_type": "code",
   "execution_count": null,
   "metadata": {},
   "outputs": [],
   "source": []
  }
 ],
 "metadata": {
  "kernelspec": {
   "display_name": "base",
   "language": "python",
   "name": "python3"
  },
  "language_info": {
   "codemirror_mode": {
    "name": "ipython",
    "version": 3
   },
   "file_extension": ".py",
   "mimetype": "text/x-python",
   "name": "python",
   "nbconvert_exporter": "python",
   "pygments_lexer": "ipython3",
   "version": "3.12.7"
  }
 },
 "nbformat": 4,
 "nbformat_minor": 2
}
